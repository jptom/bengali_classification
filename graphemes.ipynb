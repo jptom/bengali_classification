{
  "nbformat": 4,
  "nbformat_minor": 0,
  "metadata": {
    "colab": {
      "name": "graphemes.ipynb",
      "provenance": [],
      "collapsed_sections": [],
      "mount_file_id": "1kh1ycFPtwg6nAZd-03cRlgk-LbF4cvJe",
      "authorship_tag": "ABX9TyPxCmke4ZjxbwzssM7LqKff",
      "include_colab_link": true
    },
    "kernelspec": {
      "name": "python3",
      "display_name": "Python 3"
    },
    "accelerator": "GPU"
  },
  "cells": [
    {
      "cell_type": "markdown",
      "metadata": {
        "id": "view-in-github",
        "colab_type": "text"
      },
      "source": [
        "<a href=\"https://colab.research.google.com/github/jptom/bengali_classification/blob/master/graphemes.ipynb\" target=\"_parent\"><img src=\"https://colab.research.google.com/assets/colab-badge.svg\" alt=\"Open In Colab\"/></a>"
      ]
    },
    {
      "cell_type": "code",
      "metadata": {
        "id": "lH-xp3nPlhCp"
      },
      "source": [
        "!cp /content/drive/MyDrive/T0828/term\\ project/dataset/graphemes.zip .\r\n",
        "!cp /content/drive/MyDrive/T0828/term\\ project/dataset/train_labels.csv .\r\n",
        "!cp /content/drive/MyDrive/T0828/term\\ project/dataset/val_labels.csv ."
      ],
      "execution_count": 22,
      "outputs": []
    },
    {
      "cell_type": "code",
      "metadata": {
        "colab": {
          "base_uri": "https://localhost:8080/"
        },
        "id": "y--4ucs12832",
        "outputId": "efeb4e6c-9082-4f1f-fa35-6cf57c543763"
      },
      "source": [
        "!unzip /content/graphemes.zip -d ./"
      ],
      "execution_count": 10,
      "outputs": [
        {
          "output_type": "stream",
          "text": [
            "Archive:  /content/graphemes.zip\n",
            "replace ./graphemes/Train_32026.jpg? [y]es, [n]o, [A]ll, [N]one, [r]ename: n\n",
            "replace ./graphemes/Train_84338.jpg? [y]es, [n]o, [A]ll, [N]one, [r]ename: n\n",
            "replace ./graphemes/Train_85015.jpg? [y]es, [n]o, [A]ll, [N]one, [r]ename: n\n",
            "replace ./graphemes/Train_172116.jpg? [y]es, [n]o, [A]ll, [N]one, [r]ename: n\n",
            "replace ./graphemes/Train_58197.jpg? [y]es, [n]o, [A]ll, [N]one, [r]ename: "
          ],
          "name": "stdout"
        }
      ]
    },
    {
      "cell_type": "code",
      "metadata": {
        "id": "RLg49EqQ3VW-"
      },
      "source": [
        "import pandas as pd\r\n",
        "import tensorflow.math as tfm\r\n",
        "import tensorflow.keras as keras\r\n",
        "import tensorflow.keras.backend as kb\r\n",
        "import tensorflow.keras.layers as kl\r\n",
        "import tensorflow.keras.applications as ka\r\n",
        "import tensorflow.keras.utils as ku\r\n",
        "import tensorflow.keras.preprocessing.image as ki\r\n",
        "import numpy as np\r\n",
        "import os\r\n",
        "img_dir = \"graphemes\"\r\n",
        "exten = \".jpg\""
      ],
      "execution_count": 22,
      "outputs": []
    },
    {
      "cell_type": "code",
      "metadata": {
        "id": "Ri5VSO1m4289"
      },
      "source": [
        "id=\"image_id\"\r\n",
        "num_classes=(168, 11, 8)\r\n",
        "classnames=(\"grapheme_root\" ,\"vowel_diacritic\", \"consonant_diacritic\")\r\n",
        "class GraphemesDataset(ku.Sequence):\r\n",
        "    def __init__(self, data:pd.DataFrame, batch_size=64,):\r\n",
        "        self.data = data.sample(frac=1).reset_index(drop=True)\r\n",
        "        self.batch_size=batch_size\r\n",
        "        \r\n",
        "    def on_epoch_end(self):\r\n",
        "        self.data = self.data.sample(frac=1).reset_index(drop=True)\r\n",
        "\r\n",
        "    def __getitem__(self, index):\r\n",
        "        batch_data = self.data[index*self.batch_size:(index+1)*self.batch_size]\r\n",
        "        batch_x = self.load_imgs_to_array(batch_data)\r\n",
        "        batch_c0, batch_c1, batch_c2 = self.make_labels(batch_data)\r\n",
        "        return (batch_x, batch_c0, batch_c1, batch_c2), (batch_c0, batch_c1, batch_c2)\r\n",
        "\r\n",
        "    def __len__(self):\r\n",
        "        return int(np.floor(len(self.data) / self.batch_size))\r\n",
        "\r\n",
        "    def load_imgs_to_array(self, df):\r\n",
        "        batch_x = []\r\n",
        "        for filename in df[id]:\r\n",
        "            img = ki.load_img(os.path.join(\"./\", img_dir, filename+exten))\r\n",
        "            array = ki.img_to_array(img)/255\r\n",
        "            batch_x.append(array)\r\n",
        "        return np.array(batch_x)\r\n",
        "\r\n",
        "    def make_labels(self, df:pd.DataFrame):\r\n",
        "        c0 = ku.to_categorical(df[classnames[0]], num_classes=num_classes[0])\r\n",
        "        c1 = ku.to_categorical(df[classnames[1]], num_classes=num_classes[1])\r\n",
        "        c2 = ku.to_categorical(df[classnames[2]], num_classes=num_classes[2])\r\n",
        "        return c0, c1, c2"
      ],
      "execution_count": 28,
      "outputs": []
    },
    {
      "cell_type": "code",
      "metadata": {
        "id": "y1_z4RKtIiJR"
      },
      "source": [
        "train_df = pd.read_csv(\"/content/drive/MyDrive/T0828/term project/dataset/train_labels.csv\")\r\n",
        "val_df = pd.read_csv(\"/content/drive/MyDrive/T0828/term project/dataset/val_labels.csv\")\r\n",
        "trainset = GraphemesDataset(train_df)\r\n",
        "valset = GraphemesDataset(val_df)"
      ],
      "execution_count": 29,
      "outputs": []
    },
    {
      "cell_type": "code",
      "metadata": {
        "id": "WlneZAOofju7"
      },
      "source": [
        "def GraphemesAccuracy(y_true, y_pred):\r\n",
        "    print(y_true.shape, y_pred.shape)\r\n",
        "    if y_true.shape[0] == None:\r\n",
        "        print(\"f\")\r\n",
        "        return 1\r\n",
        "    c0_tf = kb.argmax(y_true[:, num_classes[0]], axis=-1) == kb.argmax(y_pred[:, num_classes[0]], axis=-1)\r\n",
        "    c1_tf = kb.argmax(y_true[:, num_classes[0]:num_classes[0]+num_classes[1]], axis=-1) == kb.argmax(y_pred[:, num_classes[0]:num_classes[0]+num_classes[1]], axis=-1)\r\n",
        "    c2_tf = kb.argmax(y_true[:, num_classes[0]+num_classes[1]:], axis=-1) == kb.argmax(y_pred[:, num_classes[0]+num_classes[1]:], axis=-1)\r\n",
        "    print(c0_tf.shape, c1_tf.shape, c2_tf.shape)\r\n",
        "    overall = kb.all(kb.stack((c0_tf, c1_tf, c2_tf), axis=-1), axis=-1)\r\n",
        "    return kb.mean(overall)\r\n",
        "\r\n",
        "def GraphemesLoss(y_true, y_pred):\r\n",
        "    print(len(y_treu), len(y_pred))\r\n",
        "    return 1"
      ],
      "execution_count": 30,
      "outputs": []
    },
    {
      "cell_type": "code",
      "metadata": {
        "id": "tgr6TxXNg7wG"
      },
      "source": [
        "class ArcFace(kl.Layer):\r\n",
        "    def __init__(self, n_classes=10, s=30.0, m=0.50, regularizer=None, **kwargs):\r\n",
        "        super(ArcFace, self).__init__(**kwargs)\r\n",
        "        self.n_classes = n_classes\r\n",
        "        self.s = s\r\n",
        "        self.m = m\r\n",
        "        self.regularizer = keras.regularizers.get(regularizer)\r\n",
        "\r\n",
        "    def build(self, input_shape):\r\n",
        "        super(ArcFace, self).build(input_shape[0])\r\n",
        "        self.W = self.add_weight(name='W',\r\n",
        "                                shape=(input_shape[0][-1], self.n_classes),\r\n",
        "                                initializer='glorot_uniform',\r\n",
        "                                trainable=True,\r\n",
        "                                regularizer=self.regularizer)\r\n",
        "\r\n",
        "    def call(self, inputs):\r\n",
        "        x, y = inputs\r\n",
        "        c = kb.shape(x)[-1]\r\n",
        "        # normalize feature\r\n",
        "        x = kb.l2_normalize(x, axis=1)\r\n",
        "        # normalize weights\r\n",
        "        W = kb.l2_normalize(self.W, axis=0)\r\n",
        "        # dot product\r\n",
        "        logits = x @ W\r\n",
        "        # add margin\r\n",
        "        # clip logits to prevent zero division when backward\r\n",
        "        theta = tfm.acos(kb.clip(logits, -1.0 + kb.epsilon(), 1.0 - kb.epsilon()))\r\n",
        "        target_logits = tfm.cos(theta + self.m)\r\n",
        "        # sin = tf.sqrt(1 - logits**2)\r\n",
        "        # cos_m = tf.cos(logits)\r\n",
        "        # sin_m = tf.sin(logits)\r\n",
        "        # target_logits = logits * cos_m - sin * sin_m\r\n",
        "        #\r\n",
        "        logits = logits * (1 - y) + target_logits * y\r\n",
        "        # feature re-scale\r\n",
        "        logits *= self.s\r\n",
        "        out = kb.softmax(logits)\r\n",
        "\r\n",
        "        return out\r\n",
        "\r\n",
        "    def compute_output_shape(self, input_shape):\r\n",
        "        return (None, self.n_classes)"
      ],
      "execution_count": 25,
      "outputs": []
    },
    {
      "cell_type": "code",
      "metadata": {
        "colab": {
          "base_uri": "https://localhost:8080/"
        },
        "id": "AN5GJzl0PsJ7",
        "outputId": "6042ab3b-1740-4f76-e549-ada0190d25c3"
      },
      "source": [
        "img_shape = (224, 224, 3)\r\n",
        "\r\n",
        "model = ka.EfficientNetB0(classifier_activation=None, )\r\n",
        "\r\n",
        "img_inputs = kl.Input(shape=img_shape)\r\n",
        "c0_y = kl.Input(shape=(168))\r\n",
        "c1_y = kl.Input(shape=(11))\r\n",
        "c2_y = kl.Input(shape=(8))\r\n",
        "\r\n",
        "c0_classifier = ArcFace(n_classes=168)\r\n",
        "c1_classifier = ArcFace(n_classes=11)\r\n",
        "c2_classifier = ArcFace(n_classes=8)\r\n",
        "\r\n",
        "x = model(img_inputs)\r\n",
        "c0_outputs = c0_classifier((x, c0_y))\r\n",
        "c1_outputs = c1_classifier((x, c1_y))\r\n",
        "c2_outputs = c2_classifier((x, c2_y))\r\n",
        "\r\n",
        "\r\n",
        "MyModel = keras.Model(inputs=[img_inputs, c0_y, c1_y, c2_y], outputs=[c0_outputs, c1_outputs, c2_outputs])\r\n",
        "MyModel.summary()\r\n",
        "#print(model.compute_output_shape(input_shape=(64, 128, 128, 3)))\r\n",
        "model.compile(optimizer=\"sgd\", loss=GraphemesLoss)"
      ],
      "execution_count": 27,
      "outputs": [
        {
          "output_type": "stream",
          "text": [
            "Model: \"model\"\n",
            "__________________________________________________________________________________________________\n",
            "Layer (type)                    Output Shape         Param #     Connected to                     \n",
            "==================================================================================================\n",
            "input_53 (InputLayer)           [(None, 224, 224, 3) 0                                            \n",
            "__________________________________________________________________________________________________\n",
            "efficientnetb0 (Functional)     (None, 1000)         5330571     input_53[0][0]                   \n",
            "__________________________________________________________________________________________________\n",
            "input_54 (InputLayer)           [(None, 168)]        0                                            \n",
            "__________________________________________________________________________________________________\n",
            "input_55 (InputLayer)           [(None, 11)]         0                                            \n",
            "__________________________________________________________________________________________________\n",
            "input_56 (InputLayer)           [(None, 8)]          0                                            \n",
            "__________________________________________________________________________________________________\n",
            "arc_face_25 (ArcFace)           (None, 168)          168000      efficientnetb0[0][0]             \n",
            "                                                                 input_54[0][0]                   \n",
            "__________________________________________________________________________________________________\n",
            "arc_face_26 (ArcFace)           (None, 11)           11000       efficientnetb0[0][0]             \n",
            "                                                                 input_55[0][0]                   \n",
            "__________________________________________________________________________________________________\n",
            "arc_face_27 (ArcFace)           (None, 8)            8000        efficientnetb0[0][0]             \n",
            "                                                                 input_56[0][0]                   \n",
            "==================================================================================================\n",
            "Total params: 5,517,571\n",
            "Trainable params: 5,475,548\n",
            "Non-trainable params: 42,023\n",
            "__________________________________________________________________________________________________\n"
          ],
          "name": "stdout"
        }
      ]
    },
    {
      "cell_type": "code",
      "metadata": {
        "colab": {
          "base_uri": "https://localhost:8080/"
        },
        "id": "qC4_7QGuIuXe",
        "outputId": "006c513b-eb8d-44ac-9a71-d65cd2f7dfc5"
      },
      "source": [
        "model.fit(x=trainset, epochs=1, callbacks=None, validation_data=valset, steps_per_epoch=10)"
      ],
      "execution_count": 118,
      "outputs": [
        {
          "output_type": "stream",
          "text": [
            "(None, None) Tensor(\"efficientnetb0/predictions/Sigmoid:0\", shape=(None, 187), dtype=float32)\n",
            "(None, None) Tensor(\"efficientnetb0/predictions/Sigmoid:0\", shape=(None, 187), dtype=float32)\n",
            "10/10 [==============================] - ETA: 0s - loss: 0.7284 - mse: 1.0000(None, None) Tensor(\"efficientnetb0/predictions/Sigmoid:0\", shape=(None, 187), dtype=float32)\n",
            "10/10 [==============================] - 36s 3s/step - loss: 0.7282 - mse: 1.0000 - val_loss: 0.6927 - val_mse: 1.0000\n"
          ],
          "name": "stdout"
        },
        {
          "output_type": "execute_result",
          "data": {
            "text/plain": [
              "<tensorflow.python.keras.callbacks.History at 0x7f2e4f11add8>"
            ]
          },
          "metadata": {
            "tags": []
          },
          "execution_count": 118
        }
      ]
    },
    {
      "cell_type": "code",
      "metadata": {
        "colab": {
          "base_uri": "https://localhost:8080/"
        },
        "id": "G5Keg_dmI_5F",
        "outputId": "165c74f9-903d-481e-9aa2-58c62980f17a"
      },
      "source": [
        "kb.argmax(np.array([[0, 0, 1], [0, 1, 0], [1, 0, 0]]))"
      ],
      "execution_count": 33,
      "outputs": [
        {
          "output_type": "execute_result",
          "data": {
            "text/plain": [
              "<tf.Tensor: shape=(3,), dtype=int64, numpy=array([2, 1, 0])>"
            ]
          },
          "metadata": {
            "tags": []
          },
          "execution_count": 33
        }
      ]
    },
    {
      "cell_type": "code",
      "metadata": {
        "colab": {
          "base_uri": "https://localhost:8080/"
        },
        "id": "806tYtxdlUHl",
        "outputId": "05e05aa4-d3d9-4ba8-907b-ed64e71b0911"
      },
      "source": [
        "kb.mean(kb.all(np.array([[1, 1, 1], [0, 1, 0], [1, 0, 0]]), axis=1))"
      ],
      "execution_count": 45,
      "outputs": [
        {
          "output_type": "execute_result",
          "data": {
            "text/plain": [
              "<tf.Tensor: shape=(), dtype=float32, numpy=0.33333334>"
            ]
          },
          "metadata": {
            "tags": []
          },
          "execution_count": 45
        }
      ]
    },
    {
      "cell_type": "code",
      "metadata": {
        "colab": {
          "base_uri": "https://localhost:8080/"
        },
        "id": "80g9JEtfmA-0",
        "outputId": "29b78faf-0a2a-4e64-edaa-16afdbfbca72"
      },
      "source": [
        "a = np.array([1, 2, 3])\r\n",
        "b = np.array([3, 2, 1])\r\n",
        "a == b\r\n",
        "kb.equal(a, b)"
      ],
      "execution_count": 75,
      "outputs": [
        {
          "output_type": "execute_result",
          "data": {
            "text/plain": [
              "<tf.Tensor: shape=(3,), dtype=bool, numpy=array([False,  True, False])>"
            ]
          },
          "metadata": {
            "tags": []
          },
          "execution_count": 75
        }
      ]
    },
    {
      "cell_type": "code",
      "metadata": {
        "colab": {
          "base_uri": "https://localhost:8080/"
        },
        "id": "tXwcDjW4qYT6",
        "outputId": "f0d9235d-c04b-45ae-c73c-c8680bab5005"
      },
      "source": [
        "import tensorflow as tf\r\n",
        "a = tf.constant([1, 2])\r\n",
        "b = tf.constant([10, 20])\r\n",
        "kb.stack((a, b), axis=-1)"
      ],
      "execution_count": 51,
      "outputs": [
        {
          "output_type": "execute_result",
          "data": {
            "text/plain": [
              "<tf.Tensor: shape=(2, 2), dtype=int32, numpy=\n",
              "array([[ 1, 10],\n",
              "       [ 2, 20]], dtype=int32)>"
            ]
          },
          "metadata": {
            "tags": []
          },
          "execution_count": 51
        }
      ]
    },
    {
      "cell_type": "code",
      "metadata": {
        "id": "GxtuuzPbnah8"
      },
      "source": [
        "kb.equal"
      ],
      "execution_count": null,
      "outputs": []
    }
  ]
}